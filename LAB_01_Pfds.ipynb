{
  "nbformat": 4,
  "nbformat_minor": 0,
  "metadata": {
    "colab": {
      "provenance": [],
      "authorship_tag": "ABX9TyPNwA7vs/7hyalmF8GXVeR9",
      "include_colab_link": true
    },
    "kernelspec": {
      "name": "python3",
      "display_name": "Python 3"
    },
    "language_info": {
      "name": "python"
    }
  },
  "cells": [
    {
      "cell_type": "markdown",
      "metadata": {
        "id": "view-in-github",
        "colab_type": "text"
      },
      "source": [
        "<a href=\"https://colab.research.google.com/github/2303a51095/B2_PFDS_2303A51095/blob/main/LAB_01_Pfds.ipynb\" target=\"_parent\"><img src=\"https://colab.research.google.com/assets/colab-badge.svg\" alt=\"Open In Colab\"/></a>"
      ]
    },
    {
      "cell_type": "markdown",
      "source": [
        "##1. **CALL STACK** **VISUALIZATION**\n"
      ],
      "metadata": {
        "id": "7ZI0kvavCmBR"
      }
    },
    {
      "cell_type": "code",
      "execution_count": null,
      "metadata": {
        "colab": {
          "base_uri": "https://localhost:8080/"
        },
        "id": "RvNPW8fG_rfB",
        "outputId": "7b484f1f-2f20-42e0-8943-35d61e12c977"
      },
      "outputs": [
        {
          "output_type": "stream",
          "name": "stdout",
          "text": [
            "Enter a number: 4\n",
            "24\n",
            "Factorial of the number is: \n",
            "24\n"
          ]
        }
      ],
      "source": [
        "def factorial(n):\n",
        "  if n < 1 or n >=10:\n",
        "    return \"Error\"\n",
        "  elif n == 1:\n",
        "    return 1\n",
        "  else:\n",
        "    return n * factorial(n-1)\n",
        "Number = int(input(\"Enter a number: \"))\n",
        "result = factorial(Number)\n",
        "print(factorial(Number))\n",
        "print(\"Factorial of the number is: \")\n",
        "print(result)\n",
        "\n"
      ]
    },
    {
      "cell_type": "markdown",
      "source": [
        "##2. **RECURSIVE** VS **ITERATIVE APPROACHES**"
      ],
      "metadata": {
        "id": "PpZbkzI1Bs5T"
      }
    },
    {
      "cell_type": "code",
      "source": [
        "#without recursion\n",
        "\n",
        "import time\n",
        "\n",
        "start_time = time.perf_counter()\n",
        "\n",
        "Number = 5\n",
        "factorial = 1\n",
        "\n",
        "if Number < 1:\n",
        "    print(\"Error\")\n",
        "else:\n",
        "    while Number > 1:\n",
        "        factorial = factorial * Number\n",
        "        Number = Number - 1\n",
        "    print(\"Factorial of the number is:\")\n",
        "    print(factorial)\n",
        "\n",
        "end_time = time.perf_counter()\n",
        "elapsed_time = end_time - start_time\n",
        "print(f\"Elapsed time: {elapsed_time:.4f} seconds\")\n"
      ],
      "metadata": {
        "id": "CQR7srblB84M",
        "colab": {
          "base_uri": "https://localhost:8080/"
        },
        "outputId": "212c2da8-601b-4d8b-e748-00912f57fd9f"
      },
      "execution_count": 5,
      "outputs": [
        {
          "output_type": "stream",
          "name": "stdout",
          "text": [
            "Factorial of the number is:\n",
            "120\n",
            "Elapsed time: 0.0004 seconds\n"
          ]
        }
      ]
    },
    {
      "cell_type": "code",
      "source": [
        "# With recursion\n",
        "\n",
        "import time\n",
        "start_time = time.perf_counter()\n",
        "\n",
        "def factorial(n):\n",
        "    if n < 1 or n >=10:\n",
        "        return \"Error\"\n",
        "    elif n == 1:\n",
        "        return 1\n",
        "    else:\n",
        "        return n * factorial(n - 1)\n",
        "\n",
        "Number = 5\n",
        "result = factorial(Number)\n",
        "print(\"Factorial of the number is: \")\n",
        "print(result)\n",
        "\n",
        "end_time = time.perf_counter()\n",
        "elapsed_time = end_time - start_time\n",
        "\n",
        "print(f\"Elapsed time: {elapsed_time:.4f} seconds\")\n"
      ],
      "metadata": {
        "colab": {
          "base_uri": "https://localhost:8080/"
        },
        "id": "Ts0UkR8JJLc1",
        "outputId": "6f20a401-a8c1-4369-a424-d93711ec7757"
      },
      "execution_count": 6,
      "outputs": [
        {
          "output_type": "stream",
          "name": "stdout",
          "text": [
            "Factorial of the number is: \n",
            "120\n",
            "Elapsed time: 0.0004 seconds\n"
          ]
        }
      ]
    }
  ]
}