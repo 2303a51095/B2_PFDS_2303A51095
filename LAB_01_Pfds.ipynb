{
  "nbformat": 4,
  "nbformat_minor": 0,
  "metadata": {
    "colab": {
      "provenance": []
    },
    "kernelspec": {
      "name": "python3",
      "display_name": "Python 3"
    },
    "language_info": {
      "name": "python"
    }
  },
  "cells": [
    {
      "cell_type": "markdown",
      "source": [
        "##**CALL STACK** **VISUALIZATION**\n"
      ],
      "metadata": {
        "id": "7ZI0kvavCmBR"
      }
    },
    {
      "cell_type": "code",
      "execution_count": 1,
      "metadata": {
        "colab": {
          "base_uri": "https://localhost:8080/"
        },
        "id": "RvNPW8fG_rfB",
        "outputId": "0d3ae020-29a4-4db8-e665-06466bcd41c2"
      },
      "outputs": [
        {
          "output_type": "stream",
          "name": "stdout",
          "text": [
            "Enter a number (≤ 10): 4\n",
            "\n",
            "--- Call Stack Trace ---\n",
            "fact(4) called\n",
            "  fact(3) called\n",
            "    fact(2) called\n",
            "      fact(1) called\n",
            "      Returning 1\n",
            "    Returning 2\n",
            "  Returning 6\n",
            "Returning 24\n",
            "\n",
            "Result: 24\n"
          ]
        }
      ],
      "source": [
        "def fact(n, depth=0):\n",
        "    space = \"  \" * depth\n",
        "    print(f\"{space}fact({n}) called\")\n",
        "    if n == 0 or n == 1:\n",
        "        print(f\"{space}Returning 1\")\n",
        "        return 1\n",
        "    else:\n",
        "        res = n * fact(n - 1, depth + 1)\n",
        "        print(f\"{space}Returning {res}\")\n",
        "        return res\n",
        "\n",
        "num = int(input(\"Enter a number (≤ 10): \"))\n",
        "if 0 <= num <= 10:\n",
        "    print(\"\\n--- Call Stack Trace ---\")\n",
        "    result = fact(num)\n",
        "    print(f\"\\nResult: {result}\")\n",
        "else:\n",
        "    print(\"Invalid input. Please enter a number between 0 and 10.\")"
      ]
    }
  ]
}