{
  "nbformat": 4,
  "nbformat_minor": 0,
  "metadata": {
    "colab": {
      "provenance": [],
      "authorship_tag": "ABX9TyMod+S08qv8ST/w/g9FtJ8y",
      "include_colab_link": true
    },
    "kernelspec": {
      "name": "python3",
      "display_name": "Python 3"
    },
    "language_info": {
      "name": "python"
    }
  },
  "cells": [
    {
      "cell_type": "markdown",
      "metadata": {
        "id": "view-in-github",
        "colab_type": "text"
      },
      "source": [
        "<a href=\"https://colab.research.google.com/github/2303a51095/B2_PFDS_2303A51095/blob/main/LAB_05_PFDS_21st_Aug.ipynb\" target=\"_parent\"><img src=\"https://colab.research.google.com/assets/colab-badge.svg\" alt=\"Open In Colab\"/></a>"
      ]
    },
    {
      "cell_type": "markdown",
      "source": [
        "##1. Student Marks Analysis"
      ],
      "metadata": {
        "id": "fD7inUt_FpLx"
      }
    },
    {
      "cell_type": "code",
      "source": [
        "import pandas as pd\n",
        "\n",
        "df = pd.read_csv(\"/content/student_scores.csv\")\n",
        "\n",
        "print(\"Original Data:\\n\", df)\n",
        "\n",
        "df.fillna(df.mean(numeric_only=True), inplace=True)\n",
        "\n",
        "print(\"\\nData after filling missing values:\\n\", df)\n",
        "\n",
        "high_achievers = df[(df['Math'] > 75) & (df['Science'] > 75) & (df['English'] > 75)]\n",
        "\n",
        "print(\"\\nHigh Achievers (scored > 75 in all subjects):\\n\", high_achievers)"
      ],
      "metadata": {
        "colab": {
          "base_uri": "https://localhost:8080/"
        },
        "id": "qGQ1NQ6bFOYB",
        "outputId": "9db6d060-65f6-4262-f756-5dec0b5de3e0"
      },
      "execution_count": 6,
      "outputs": [
        {
          "output_type": "stream",
          "name": "stdout",
          "text": [
            "Original Data:\n",
            "    Student_ID   Name  Math  Science  English\n",
            "0           1  Anita  80.0     90.0     85.0\n",
            "1           2   Ravi  70.0      NaN     78.0\n",
            "2           3  Meena  88.0     92.0      NaN\n",
            "3           4  Kiran  60.0     65.0     70.0\n",
            "4           5  Arjun   NaN     80.0     82.0\n",
            "\n",
            "Data after filling missing values:\n",
            "    Student_ID   Name  Math  Science  English\n",
            "0           1  Anita  80.0    90.00    85.00\n",
            "1           2   Ravi  70.0    81.75    78.00\n",
            "2           3  Meena  88.0    92.00    78.75\n",
            "3           4  Kiran  60.0    65.00    70.00\n",
            "4           5  Arjun  74.5    80.00    82.00\n",
            "\n",
            "High Achievers (scored > 75 in all subjects):\n",
            "    Student_ID   Name  Math  Science  English\n",
            "0           1  Anita  80.0     90.0    85.00\n",
            "2           3  Meena  88.0     92.0    78.75\n"
          ]
        }
      ]
    },
    {
      "cell_type": "markdown",
      "source": [
        "## 2. Hospital Patient Records"
      ],
      "metadata": {
        "id": "h4YbO56AF807"
      }
    },
    {
      "cell_type": "code",
      "source": [
        "import pandas as pd\n",
        "\n",
        "df = pd.read_csv(\"/content/patients.csv\")\n",
        "\n",
        "df[\"Age\"] = df[\"Age\"].fillna(df[\"Age\"].median())\n",
        "\n",
        "filtered = df[(df[\"Gender\"] == \"Female\") & (df[\"Age\"] > 50) & (df[\"Diagnosis\"] == \"Diabetes\")]\n",
        "\n",
        "print(\"Elderly Female Diabetes Patients\")\n",
        "print(filtered)"
      ],
      "metadata": {
        "colab": {
          "base_uri": "https://localhost:8080/"
        },
        "id": "LiEDf5mYGHX6",
        "outputId": "0468fddf-ec08-45ef-a156-5da2324e95a4"
      },
      "execution_count": 7,
      "outputs": [
        {
          "output_type": "stream",
          "name": "stdout",
          "text": [
            "Elderly Female Diabetes Patients\n",
            "  Patient_ID     Name   Age  Gender Diagnosis Admission_Date\n",
            "0       P101    Anita  65.0  Female  Diabetes     2025-08-01\n",
            "2       P103  Kavitha  55.0  Female  Diabetes     2025-08-05\n",
            "4       P105  Lakshmi  72.0  Female  Diabetes     2025-08-10\n"
          ]
        }
      ]
    }
  ]
}