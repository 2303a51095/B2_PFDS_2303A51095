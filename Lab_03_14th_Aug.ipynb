{
  "nbformat": 4,
  "nbformat_minor": 0,
  "metadata": {
    "colab": {
      "provenance": [],
      "authorship_tag": "ABX9TyPPoNNqgJnEgFjy+JC+L/P2",
      "include_colab_link": true
    },
    "kernelspec": {
      "name": "python3",
      "display_name": "Python 3"
    },
    "language_info": {
      "name": "python"
    }
  },
  "cells": [
    {
      "cell_type": "markdown",
      "metadata": {
        "id": "view-in-github",
        "colab_type": "text"
      },
      "source": [
        "<a href=\"https://colab.research.google.com/github/2303a51095/B2_PFDS_2303A51095/blob/main/Lab_03_14th_Aug.ipynb\" target=\"_parent\"><img src=\"https://colab.research.google.com/assets/colab-badge.svg\" alt=\"Open In Colab\"/></a>"
      ]
    },
    {
      "cell_type": "markdown",
      "source": [
        "##1. Matrix Addition and Subtraction"
      ],
      "metadata": {
        "id": "-UPgm5z-5D44"
      }
    },
    {
      "cell_type": "code",
      "execution_count": 3,
      "metadata": {
        "colab": {
          "base_uri": "https://localhost:8080/"
        },
        "id": "kQKUTI30u6iI",
        "outputId": "8589321e-2ef4-4d2c-8bc7-f672f1023628"
      },
      "outputs": [
        {
          "output_type": "stream",
          "name": "stdout",
          "text": [
            "Matrix A:\n",
            " [[1 2 3]\n",
            " [4 5 6]\n",
            " [7 8 9]]\n",
            "Matrix B:\n",
            " [[9 8 7]\n",
            " [6 5 4]\n",
            " [3 2 1]]\n",
            "A + B:\n",
            " [[10 10 10]\n",
            " [10 10 10]\n",
            " [10 10 10]]\n",
            "A - B:\n",
            " [[-8 -6 -4]\n",
            " [-2  0  2]\n",
            " [ 4  6  8]]\n"
          ]
        }
      ],
      "source": [
        "import numpy as np\n",
        "\n",
        "# Create two 3x3 matrices\n",
        "A = np.array([[1, 2, 3],\n",
        "              [4, 5, 6],\n",
        "              [7, 8, 9]])\n",
        "\n",
        "B = np.array([[9, 8, 7],\n",
        "              [6, 5, 4],\n",
        "              [3, 2, 1]])\n",
        "\n",
        "print(\"Matrix A:\\n\", A)\n",
        "print(\"Matrix B:\\n\", B)\n",
        "\n",
        "print(\"A + B:\\n\", A + B)  # addition\n",
        "print(\"A - B:\\n\", A - B)  # subtraction\n",
        "\n"
      ]
    },
    {
      "cell_type": "markdown",
      "source": [
        "## 2. 2D Matrix Multiplication (Dot Product)"
      ],
      "metadata": {
        "id": "m5mylgB15PAg"
      }
    },
    {
      "cell_type": "code",
      "source": [
        "import numpy as np\n",
        "\n",
        "a = np.array([[1, 2],\n",
        "              [3, 4],\n",
        "              [5, 6]])\n",
        "\n",
        "b = np.array([[7, 8, 9],\n",
        "              [10, 11, 12]])\n",
        "\n",
        "dot_res = np.dot(a, b)\n",
        "print(\"Matrix A:\\n\", a)\n",
        "print(\"Matrix B:\\n\", b)\n",
        "print(\"Dot Product Result:\\n\", dot_res)"
      ],
      "metadata": {
        "colab": {
          "base_uri": "https://localhost:8080/"
        },
        "id": "HRzmiVxJ5WmB",
        "outputId": "32c1a4ba-7d5b-4545-8244-e14137a616ef"
      },
      "execution_count": 4,
      "outputs": [
        {
          "output_type": "stream",
          "name": "stdout",
          "text": [
            "Matrix A:\n",
            " [[1 2]\n",
            " [3 4]\n",
            " [5 6]]\n",
            "Matrix B:\n",
            " [[ 7  8  9]\n",
            " [10 11 12]]\n",
            "Dot Product Result:\n",
            " [[ 27  30  33]\n",
            " [ 61  68  75]\n",
            " [ 95 106 117]]\n"
          ]
        }
      ]
    },
    {
      "cell_type": "markdown",
      "source": [
        "#class activity"
      ],
      "metadata": {
        "id": "vY2vKID97fOM"
      }
    },
    {
      "cell_type": "code",
      "source": [
        "file_name = \"student_data.txt\"\n",
        "\n",
        "name = input(\"Enter name: \")\n",
        "marks = input(\"Enter marks: \")\n",
        "\n",
        "with open(file_name, \"a\") as f:\n",
        "    f.write(f\"{name},{marks}\\n\")\n",
        "\n",
        "print(\"\\nAll Entries:\")\n",
        "with open(file_name, \"r\") as f:\n",
        "    for line in f:\n",
        "        n, m = line.strip().split(\",\")\n",
        "        print(f\"Name: {n}, Marks: {m}\")"
      ],
      "metadata": {
        "colab": {
          "base_uri": "https://localhost:8080/"
        },
        "id": "iOIa2RaX7kBQ",
        "outputId": "b23c8900-d46d-41e9-c5a6-0fc0b52efcad"
      },
      "execution_count": 5,
      "outputs": [
        {
          "output_type": "stream",
          "name": "stdout",
          "text": [
            "Enter name: ganesh\n",
            "Enter marks: 66\n",
            "\n",
            "All Entries:\n",
            "Name: ganesh, Marks: 66\n"
          ]
        }
      ]
    }
  ]
}